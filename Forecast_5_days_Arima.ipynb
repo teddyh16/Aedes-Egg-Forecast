{
  "nbformat": 4,
  "nbformat_minor": 0,
  "metadata": {
    "colab": {
      "provenance": [],
      "authorship_tag": "ABX9TyN45bg0Y5KEqE2IREM8RTgv",
      "include_colab_link": true
    },
    "kernelspec": {
      "name": "python3",
      "display_name": "Python 3"
    },
    "language_info": {
      "name": "python"
    }
  },
  "cells": [
    {
      "cell_type": "markdown",
      "metadata": {
        "id": "view-in-github",
        "colab_type": "text"
      },
      "source": [
        "<a href=\"https://colab.research.google.com/github/teddyh16/Aedes-Egg-Forecast/blob/main/Forecast_5_days_Arima.ipynb\" target=\"_parent\"><img src=\"https://colab.research.google.com/assets/colab-badge.svg\" alt=\"Open In Colab\"/></a>"
      ]
    },
    {
      "cell_type": "code",
      "source": [
        "import pandas as pd\n",
        "from statsmodels.tsa.arima.model import ARIMA\n",
        "\n",
        "# Load data\n",
        "df = pd.read_csv(\"data telur format baru.csv\")\n",
        "\n",
        "# Convert the \"Tanggal\" column to datetime format\n",
        "df[\"Tanggal\"] = pd.to_datetime(df[\"Tanggal\"])\n",
        "\n",
        "# Set the \"Tanggal\" column as the index\n",
        "df.set_index(\"Tanggal\", inplace=True)\n",
        "\n",
        "# ARIMA(5,0,4) model\n",
        "model = ARIMA(df[\"Pertambahan_Telur\"], order=(5, 0, 4))\n",
        "result = model.fit()\n",
        "\n",
        "# Forecast the next 5 days\n",
        "forecast_steps = 5\n",
        "forecast = result.forecast(steps=forecast_steps)\n",
        "\n",
        "# Get the last date in the index\n",
        "last_date = df.index[-1]\n",
        "\n",
        "# Generate dates for the forecasted period\n",
        "forecast_dates = pd.date_range(start=last_date + pd.DateOffset(days=1), periods=forecast_steps, freq=\"D\")\n",
        "\n",
        "# Print the forecasted values for the next 5 days\n",
        "print(\"Forecasted Values for the Next {} Days:\".format(forecast_steps))\n",
        "for i, forecast_value in enumerate(forecast):\n",
        "    next_date = forecast_dates[i]\n",
        "    print(\"Date {}: {:.2f}\".format(next_date.strftime('%Y-%m-%d'), forecast_value))\n"
      ],
      "metadata": {
        "colab": {
          "base_uri": "https://localhost:8080/"
        },
        "id": "ryLWvp3zF_qn",
        "outputId": "e8bb0cef-08c8-470d-ea6f-879bfae2c3ca"
      },
      "execution_count": null,
      "outputs": [
        {
          "output_type": "stream",
          "name": "stderr",
          "text": [
            "<ipython-input-8-feefb434391d>:8: UserWarning: Parsing dates in DD/MM/YYYY format when dayfirst=False (the default) was specified. This may lead to inconsistently parsed dates! Specify a format to ensure consistent parsing.\n",
            "  df[\"Tanggal\"] = pd.to_datetime(df[\"Tanggal\"])\n",
            "/usr/local/lib/python3.10/dist-packages/statsmodels/tsa/base/tsa_model.py:473: ValueWarning: A date index has been provided, but it has no associated frequency information and so will be ignored when e.g. forecasting.\n",
            "  self._init_dates(dates, freq)\n",
            "/usr/local/lib/python3.10/dist-packages/statsmodels/tsa/base/tsa_model.py:473: ValueWarning: A date index has been provided, but it is not monotonic and so will be ignored when e.g. forecasting.\n",
            "  self._init_dates(dates, freq)\n",
            "/usr/local/lib/python3.10/dist-packages/statsmodels/tsa/base/tsa_model.py:473: ValueWarning: A date index has been provided, but it has no associated frequency information and so will be ignored when e.g. forecasting.\n",
            "  self._init_dates(dates, freq)\n",
            "/usr/local/lib/python3.10/dist-packages/statsmodels/tsa/base/tsa_model.py:473: ValueWarning: A date index has been provided, but it is not monotonic and so will be ignored when e.g. forecasting.\n",
            "  self._init_dates(dates, freq)\n",
            "/usr/local/lib/python3.10/dist-packages/statsmodels/tsa/base/tsa_model.py:473: ValueWarning: A date index has been provided, but it has no associated frequency information and so will be ignored when e.g. forecasting.\n",
            "  self._init_dates(dates, freq)\n",
            "/usr/local/lib/python3.10/dist-packages/statsmodels/tsa/base/tsa_model.py:473: ValueWarning: A date index has been provided, but it is not monotonic and so will be ignored when e.g. forecasting.\n",
            "  self._init_dates(dates, freq)\n",
            "/usr/local/lib/python3.10/dist-packages/statsmodels/tsa/statespace/sarimax.py:966: UserWarning: Non-stationary starting autoregressive parameters found. Using zeros as starting parameters.\n",
            "  warn('Non-stationary starting autoregressive parameters'\n",
            "/usr/local/lib/python3.10/dist-packages/statsmodels/tsa/statespace/sarimax.py:978: UserWarning: Non-invertible starting MA parameters found. Using zeros as starting parameters.\n",
            "  warn('Non-invertible starting MA parameters found.'\n"
          ]
        },
        {
          "output_type": "stream",
          "name": "stdout",
          "text": [
            "Forecasted Values for the Next 5 Days:\n",
            "Date 2022-08-15: 58.46\n",
            "Date 2022-08-16: 50.68\n",
            "Date 2022-08-17: 72.14\n",
            "Date 2022-08-18: 59.28\n",
            "Date 2022-08-19: 49.55\n"
          ]
        },
        {
          "output_type": "stream",
          "name": "stderr",
          "text": [
            "/usr/local/lib/python3.10/dist-packages/statsmodels/base/model.py:607: ConvergenceWarning: Maximum Likelihood optimization failed to converge. Check mle_retvals\n",
            "  warnings.warn(\"Maximum Likelihood optimization failed to \"\n",
            "/usr/local/lib/python3.10/dist-packages/statsmodels/tsa/base/tsa_model.py:836: ValueWarning: No supported index is available. Prediction results will be given with an integer index beginning at `start`.\n",
            "  return get_prediction_index(\n",
            "/usr/local/lib/python3.10/dist-packages/statsmodels/tsa/base/tsa_model.py:836: FutureWarning: No supported index is available. In the next version, calling this method in a model without a supported index will result in an exception.\n",
            "  return get_prediction_index(\n"
          ]
        }
      ]
    }
  ]
}